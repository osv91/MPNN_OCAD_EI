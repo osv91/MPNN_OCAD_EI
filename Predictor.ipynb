{
 "cells": [
  {
   "cell_type": "code",
   "execution_count": 1,
   "id": "782f0ae2",
   "metadata": {},
   "outputs": [],
   "source": [
    "###Import libraries###\n",
    "from itertools import groupby\n",
    "from rdkit import Chem\n",
    "import numpy as np\n",
    "import pandas as pd\n",
    "import tensorflow as tf\n",
    "from tensorflow import keras\n",
    "from tensorflow.keras import layers\n",
    "import matplotlib.pyplot as plt\n",
    "import warnings\n",
    "from rdkit import Chem\n",
    "from rdkit.Chem import Descriptors\n",
    "from rdkit.Chem.inchi import *\n",
    "from rdkit import RDLogger\n",
    "from rdkit.Chem.Draw import IPythonConsole\n",
    "from rdkit.Chem.Draw import MolsToGridImage\n",
    "import logging\n",
    "import seaborn as sns\n",
    "from sklearn.model_selection import train_test_split\n",
    "from custom_layers import *\n",
    "from model import *\n",
    "#remove RDKit warnings\n",
    "tf.get_logger().setLevel(logging.ERROR)\n",
    "warnings.filterwarnings(\"ignore\")\n",
    "RDLogger.DisableLog(\"rdApp.*\")\n",
    "from utils import *\n",
    "np.random.seed(123)\n",
    "tf.random.set_seed(123)"
   ]
  },
  {
   "cell_type": "code",
   "execution_count": 2,
   "id": "372aa0c3",
   "metadata": {
    "scrolled": true
   },
   "outputs": [],
   "source": [
    "###Predictions can be made for a file with smiles strings\n",
    "\n",
    "ds = pd.read_csv('test.smi', sep=',')\n",
    "ds['mw'] = ds.smiles.apply(lambda x: int(0.5+Chem.Descriptors.ExactMolWt(Chem.MolFromSmiles(x))))\n"
   ]
  },
  {
   "cell_type": "code",
   "execution_count": 3,
   "id": "0b16a5b2",
   "metadata": {
    "scrolled": true
   },
   "outputs": [
    {
     "data": {
      "text/html": [
       "<div>\n",
       "<style scoped>\n",
       "    .dataframe tbody tr th:only-of-type {\n",
       "        vertical-align: middle;\n",
       "    }\n",
       "\n",
       "    .dataframe tbody tr th {\n",
       "        vertical-align: top;\n",
       "    }\n",
       "\n",
       "    .dataframe thead th {\n",
       "        text-align: right;\n",
       "    }\n",
       "</style>\n",
       "<table border=\"1\" class=\"dataframe\">\n",
       "  <thead>\n",
       "    <tr style=\"text-align: right;\">\n",
       "      <th></th>\n",
       "      <th>smiles</th>\n",
       "      <th>mw</th>\n",
       "    </tr>\n",
       "  </thead>\n",
       "  <tbody>\n",
       "    <tr>\n",
       "      <th>0</th>\n",
       "      <td>CCCCOP(=O)(SCCN(CC)CCC)C(C)C</td>\n",
       "      <td>309</td>\n",
       "    </tr>\n",
       "  </tbody>\n",
       "</table>\n",
       "</div>"
      ],
      "text/plain": [
       "                         smiles   mw\n",
       "0  CCCCOP(=O)(SCCN(CC)CCC)C(C)C  309"
      ]
     },
     "execution_count": 3,
     "metadata": {},
     "output_type": "execute_result"
    }
   ],
   "source": [
    "ds"
   ]
  },
  {
   "cell_type": "code",
   "execution_count": 4,
   "id": "00fbb351",
   "metadata": {},
   "outputs": [
    {
     "data": {
      "text/plain": [
       "'\\nds = pd.DataFrame({\\'smiles\\':\\'CCCCOP(=O)(SCCN(CC)CCC)C(C)C\\', \"mw\":308}, index=[0])\\n'"
      ]
     },
     "execution_count": 4,
     "metadata": {},
     "output_type": "execute_result"
    }
   ],
   "source": [
    "###Or you can manualy change Smiles and MW in this cell\n",
    "'''\n",
    "ds = pd.DataFrame({'smiles':'CCCCOP(=O)(SCCN(CC)CCC)C(C)C', \"mw\":308}, index=[0])\n",
    "'''"
   ]
  },
  {
   "cell_type": "code",
   "execution_count": 5,
   "id": "76bf016b",
   "metadata": {},
   "outputs": [],
   "source": [
    "batch_size=32\n",
    "X=graphs_from_smiles(ds.smiles)\n",
    "y = np.zeros((ds.shape[0],560))\n",
    "dataset = MPNNDataset(X, np.vstack(y))"
   ]
  },
  {
   "cell_type": "code",
   "execution_count": 6,
   "id": "4d212306",
   "metadata": {},
   "outputs": [],
   "source": [
    "mpnn_s = MPNNModel(atom_dim=X[0][0][0].shape[0], bond_dim=X[1][0][0].shape[0], batch_size=batch_size)\n",
    "mpnn_s.load_weights('1for.h5')\n",
    "mpnn_n = MPNNModel(atom_dim=X[0][0][0].shape[0], bond_dim=X[1][0][0].shape[0], batch_size=batch_size)\n",
    "mpnn_n.load_weights('1nl.h5')"
   ]
  },
  {
   "cell_type": "code",
   "execution_count": 7,
   "id": "79f71264",
   "metadata": {},
   "outputs": [],
   "source": [
    "def neutral_loss(spec, mw):\n",
    "    neutral_loss_array = np.zeros(spec.shape[0])\n",
    "    peaks = np.nonzero(spec)[0]\n",
    "    for peak in peaks:\n",
    "        if mw-peak<560:\n",
    "            neutral_loss_array[mw-peak] = spec[peak]\n",
    "    return neutral_loss_array\n"
   ]
  },
  {
   "cell_type": "code",
   "execution_count": 8,
   "id": "e0e158fd",
   "metadata": {},
   "outputs": [],
   "source": [
    "predicted_spectrum = mpnn_s.predict(dataset)\n",
    "predicted_nl = mpnn_n.predict(dataset)\n",
    "\n",
    "ds['pred_s'] = list(predicted_spectrum)\n",
    "ds['pred_n'] = list(predicted_nl)\n",
    "\n",
    "m_s = np.arange(0, 560)**0.5\n",
    "m_n = np.flip(m_s)\n",
    "\n",
    "m_s[0]=1\n",
    "m_n[-1]=1\n",
    "\n",
    "ds['pred_s'] = ds['pred_s'].apply(lambda x:x**2/m_s)\n",
    "ds['pred_n'] = ds['pred_n'].apply(lambda x:x**2/m_n)\n",
    "\n",
    "ds['pred_n_r'] = ds.apply(lambda x: neutral_loss(x.pred_n, x.mw), axis=1)\n",
    "ds['pred_avg'] = (ds.pred_n_r+ds.pred_s)/2\n",
    "\n",
    "\n",
    "\n",
    "ds['pred_avg'] = ds['pred_avg'].apply(lambda x: 999*x/np.max(x))\n",
    "ds['pred_avg'] = ds['pred_avg'].apply(lambda x: np.where(x<1, 0,x))\n",
    "ds = ds[ds.pred_avg.apply(lambda x:len(np.nonzero(x)[0])>0)]"
   ]
  },
  {
   "cell_type": "code",
   "execution_count": 9,
   "id": "f786df90",
   "metadata": {
    "scrolled": true
   },
   "outputs": [
    {
     "data": {
      "text/html": [
       "<div>\n",
       "<style scoped>\n",
       "    .dataframe tbody tr th:only-of-type {\n",
       "        vertical-align: middle;\n",
       "    }\n",
       "\n",
       "    .dataframe tbody tr th {\n",
       "        vertical-align: top;\n",
       "    }\n",
       "\n",
       "    .dataframe thead th {\n",
       "        text-align: right;\n",
       "    }\n",
       "</style>\n",
       "<table border=\"1\" class=\"dataframe\">\n",
       "  <thead>\n",
       "    <tr style=\"text-align: right;\">\n",
       "      <th></th>\n",
       "      <th>smiles</th>\n",
       "      <th>mw</th>\n",
       "      <th>pred_s</th>\n",
       "      <th>pred_n</th>\n",
       "      <th>pred_n_r</th>\n",
       "      <th>pred_avg</th>\n",
       "    </tr>\n",
       "  </thead>\n",
       "  <tbody>\n",
       "    <tr>\n",
       "      <th>0</th>\n",
       "      <td>CCCCOP(=O)(SCCN(CC)CCC)C(C)C</td>\n",
       "      <td>309</td>\n",
       "      <td>[9.972725756313139e-09, 1.0394349203579623e-07...</td>\n",
       "      <td>[6.953756426806197e-06, 2.244469587053551e-05,...</td>\n",
       "      <td>[4.4611957088342955e-08, 2.9457883239505495e-0...</td>\n",
       "      <td>[0.0, 0.0, 0.0, 0.0, 0.0, 0.0, 0.0, 0.0, 0.0, ...</td>\n",
       "    </tr>\n",
       "  </tbody>\n",
       "</table>\n",
       "</div>"
      ],
      "text/plain": [
       "                         smiles   mw  \\\n",
       "0  CCCCOP(=O)(SCCN(CC)CCC)C(C)C  309   \n",
       "\n",
       "                                              pred_s  \\\n",
       "0  [9.972725756313139e-09, 1.0394349203579623e-07...   \n",
       "\n",
       "                                              pred_n  \\\n",
       "0  [6.953756426806197e-06, 2.244469587053551e-05,...   \n",
       "\n",
       "                                            pred_n_r  \\\n",
       "0  [4.4611957088342955e-08, 2.9457883239505495e-0...   \n",
       "\n",
       "                                            pred_avg  \n",
       "0  [0.0, 0.0, 0.0, 0.0, 0.0, 0.0, 0.0, 0.0, 0.0, ...  "
      ]
     },
     "execution_count": 9,
     "metadata": {},
     "output_type": "execute_result"
    }
   ],
   "source": [
    "ds "
   ]
  },
  {
   "cell_type": "code",
   "execution_count": 10,
   "id": "149793bc",
   "metadata": {},
   "outputs": [],
   "source": [
    "def spectra_to_MSP(df, output_file='predicted_spectra.msp'):\n",
    "    with open(output_file, \"w\") as f:\n",
    "        for i in df.index:\n",
    "            f.write('Name:'+df.iloc[i].smiles+'\\n')\n",
    "            f.write('MW:'+str(df.iloc[i].mw)+'\\n')\n",
    "            f.write('Num Peaks:'+str(len(np.nonzero(df.iloc[i].pred_avg[1:df.iloc[i].mw+10])[0]))+'\\n')\n",
    "            \n",
    "            for j in np.nonzero(df.iloc[i].pred_avg[1:df.iloc[i].mw+10])[0]:\n",
    "                f.write(str(j+1)+' ' + str(df.iloc[i].pred_avg[1:df.iloc[i].mw+10][j])+ ';\\n')\n"
   ]
  },
  {
   "cell_type": "code",
   "execution_count": 11,
   "id": "148c0828",
   "metadata": {},
   "outputs": [],
   "source": [
    "spectra_to_MSP(ds, 'test.msp')"
   ]
  },
  {
   "cell_type": "code",
   "execution_count": null,
   "id": "c785773d",
   "metadata": {},
   "outputs": [],
   "source": []
  }
 ],
 "metadata": {
  "kernelspec": {
   "display_name": "Python 3 (ipykernel)",
   "language": "python",
   "name": "python3"
  },
  "language_info": {
   "codemirror_mode": {
    "name": "ipython",
    "version": 3
   },
   "file_extension": ".py",
   "mimetype": "text/x-python",
   "name": "python",
   "nbconvert_exporter": "python",
   "pygments_lexer": "ipython3",
   "version": "3.9.7"
  }
 },
 "nbformat": 4,
 "nbformat_minor": 5
}
